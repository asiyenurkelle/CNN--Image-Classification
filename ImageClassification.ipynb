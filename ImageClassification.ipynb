{
 "cells": [
  {
   "cell_type": "markdown",
   "metadata": {},
   "source": [
    "# CNN İLE DEFTER VE TOP RESİMLERİNİN SINIFLANDIRILMASI"
   ]
  },
  {
   "cell_type": "markdown",
   "metadata": {},
   "source": [
    "Projemin dropbox dosyası: https://www.dropbox.com/sh/l0i9h0yp7ry5gzd/AADyJP8m42Rhdq9SMhkkEGVAa?dl=0\n",
    "Resimleri tek bir klasörden numaralarına göre(1-200 top, 201-400 defter şeklinde) aşağıdaki\n",
    "kodlarla düzenleyerek çekeceğiz."
   ]
  },
  {
   "cell_type": "markdown",
   "metadata": {},
   "source": [
    "İlk olarak resimlerimizi düzenleyeceğiz."
   ]
  },
  {
   "cell_type": "code",
   "execution_count": 1,
   "metadata": {},
   "outputs": [],
   "source": [
    "import cv2\n",
    "import numpy as np"
   ]
  },
  {
   "cell_type": "code",
   "execution_count": 2,
   "metadata": {},
   "outputs": [],
   "source": [
    "def resmiklasordenal(dosyaadi):\n",
    "    resim = cv2.imread(\"%s\"%dosyaadi)\n",
    "    return resim"
   ]
  },
  {
   "cell_type": "code",
   "execution_count": 3,
   "metadata": {},
   "outputs": [
    {
     "name": "stdout",
     "output_type": "stream",
     "text": [
      "2\n",
      "3\n",
      "4\n",
      "5\n",
      "6\n",
      "7\n",
      "8\n",
      "9\n",
      "10\n",
      "11\n",
      "12\n",
      "13\n",
      "14\n",
      "15\n",
      "16\n",
      "17\n",
      "18\n",
      "19\n",
      "20\n",
      "21\n",
      "22\n",
      "23\n",
      "24\n",
      "25\n",
      "26\n",
      "27\n",
      "28\n",
      "29\n",
      "30\n",
      "31\n",
      "32\n",
      "33\n",
      "34\n",
      "35\n",
      "36\n",
      "37\n",
      "38\n",
      "39\n",
      "40\n",
      "41\n",
      "42\n",
      "43\n",
      "44\n",
      "45\n",
      "46\n",
      "47\n",
      "48\n",
      "49\n",
      "50\n",
      "51\n",
      "52\n",
      "53\n",
      "54\n",
      "55\n",
      "56\n",
      "57\n",
      "58\n",
      "59\n",
      "60\n",
      "61\n",
      "62\n",
      "63\n",
      "64\n",
      "65\n",
      "66\n",
      "67\n",
      "68\n",
      "69\n",
      "70\n",
      "71\n",
      "72\n",
      "73\n",
      "74\n",
      "75\n",
      "76\n",
      "77\n",
      "78\n",
      "79\n",
      "80\n",
      "81\n",
      "82\n",
      "83\n",
      "84\n",
      "85\n",
      "86\n",
      "87\n",
      "88\n",
      "89\n",
      "90\n",
      "91\n",
      "92\n",
      "93\n",
      "94\n",
      "95\n",
      "96\n",
      "97\n",
      "98\n",
      "99\n",
      "100\n",
      "101\n",
      "102\n",
      "103\n",
      "104\n",
      "105\n",
      "106\n",
      "107\n",
      "108\n",
      "109\n",
      "110\n",
      "111\n",
      "112\n",
      "113\n",
      "114\n",
      "115\n",
      "116\n",
      "117\n",
      "118\n",
      "119\n",
      "120\n",
      "121\n",
      "122\n",
      "123\n",
      "124\n",
      "125\n",
      "126\n",
      "127\n",
      "128\n",
      "129\n",
      "130\n",
      "131\n",
      "132\n",
      "133\n",
      "134\n",
      "135\n",
      "136\n",
      "137\n",
      "138\n",
      "139\n",
      "140\n",
      "141\n",
      "142\n",
      "143\n",
      "144\n",
      "145\n",
      "146\n",
      "147\n",
      "148\n",
      "149\n",
      "150\n",
      "151\n",
      "152\n",
      "153\n",
      "154\n",
      "155\n",
      "156\n",
      "157\n",
      "158\n",
      "159\n",
      "160\n",
      "161\n",
      "162\n",
      "163\n",
      "164\n",
      "165\n",
      "166\n",
      "167\n",
      "168\n",
      "169\n",
      "170\n",
      "171\n",
      "172\n",
      "173\n",
      "174\n",
      "175\n",
      "176\n",
      "177\n",
      "178\n",
      "179\n",
      "180\n",
      "181\n",
      "182\n",
      "183\n",
      "184\n",
      "185\n",
      "186\n",
      "187\n",
      "188\n",
      "189\n",
      "190\n",
      "191\n",
      "192\n",
      "193\n",
      "194\n",
      "195\n",
      "196\n",
      "197\n",
      "198\n",
      "199\n",
      "200\n",
      "201\n",
      "202\n",
      "203\n",
      "204\n",
      "205\n",
      "206\n",
      "207\n",
      "208\n",
      "209\n",
      "210\n",
      "211\n",
      "212\n",
      "213\n",
      "214\n",
      "215\n",
      "216\n",
      "217\n",
      "218\n",
      "219\n",
      "220\n",
      "221\n",
      "222\n",
      "223\n",
      "224\n",
      "225\n",
      "226\n",
      "227\n",
      "228\n",
      "229\n",
      "230\n",
      "231\n",
      "232\n",
      "233\n",
      "234\n",
      "235\n",
      "236\n",
      "237\n",
      "238\n",
      "239\n",
      "240\n",
      "241\n",
      "242\n",
      "243\n",
      "244\n",
      "245\n",
      "246\n",
      "247\n",
      "248\n",
      "249\n",
      "250\n",
      "251\n",
      "252\n",
      "253\n",
      "254\n",
      "255\n",
      "256\n",
      "257\n",
      "258\n",
      "259\n",
      "260\n",
      "261\n",
      "262\n",
      "263\n",
      "264\n",
      "265\n",
      "266\n",
      "267\n",
      "268\n",
      "269\n",
      "270\n",
      "271\n",
      "272\n",
      "273\n",
      "274\n",
      "275\n",
      "276\n",
      "277\n",
      "278\n",
      "279\n",
      "280\n",
      "281\n",
      "282\n",
      "283\n",
      "284\n",
      "285\n",
      "286\n",
      "287\n",
      "288\n",
      "289\n",
      "290\n",
      "291\n",
      "292\n",
      "293\n",
      "294\n",
      "295\n",
      "296\n",
      "297\n",
      "298\n",
      "299\n",
      "300\n",
      "301\n",
      "302\n",
      "303\n",
      "304\n",
      "305\n",
      "306\n",
      "307\n",
      "308\n",
      "309\n",
      "310\n",
      "311\n",
      "312\n",
      "313\n",
      "314\n",
      "315\n",
      "316\n",
      "317\n",
      "318\n",
      "319\n",
      "320\n",
      "321\n",
      "322\n",
      "323\n",
      "324\n",
      "325\n",
      "326\n",
      "327\n",
      "328\n",
      "329\n",
      "330\n",
      "331\n",
      "332\n",
      "333\n",
      "334\n",
      "335\n",
      "336\n",
      "337\n",
      "338\n",
      "339\n",
      "340\n",
      "341\n",
      "342\n",
      "343\n",
      "344\n",
      "345\n",
      "346\n",
      "347\n",
      "348\n",
      "349\n",
      "350\n",
      "351\n",
      "352\n",
      "353\n",
      "354\n",
      "355\n",
      "356\n",
      "357\n",
      "358\n",
      "359\n",
      "360\n",
      "361\n",
      "362\n",
      "363\n",
      "364\n",
      "365\n",
      "366\n",
      "367\n",
      "368\n",
      "369\n",
      "370\n",
      "371\n",
      "372\n",
      "373\n",
      "374\n",
      "375\n",
      "376\n",
      "377\n",
      "378\n",
      "379\n",
      "380\n",
      "381\n",
      "382\n",
      "383\n",
      "384\n",
      "385\n",
      "386\n",
      "387\n",
      "388\n",
      "389\n",
      "390\n",
      "391\n",
      "392\n",
      "393\n",
      "394\n",
      "395\n",
      "396\n",
      "397\n",
      "398\n",
      "399\n",
      "400\n",
      "401\n"
     ]
    }
   ],
   "source": [
    "girisverisi = np.array([])\n",
    "for i in range(400):\n",
    "    klasordenalinmisresim=0\n",
    "    i = i+1\n",
    "    string= 'veriseti/%s.jpg'%i\n",
    "    klasordenalinmisresim =resmiklasordenal(string)\n",
    "    boyutlandirilmisresim=cv2.resize(klasordenalinmisresim,(224,224))\n",
    "    girisverisi=np.append(girisverisi,boyutlandirilmisresim)\n",
    "    print(i +1)\n"
   ]
  },
  {
   "cell_type": "markdown",
   "metadata": {},
   "source": [
    "Resimlerimizi numaralarına göre teker teker klasörden çektik.Cv2 kullandık."
   ]
  },
  {
   "cell_type": "code",
   "execution_count": 4,
   "metadata": {},
   "outputs": [],
   "source": [
    "girisverisi= np.reshape(girisverisi,(-1,224,224,3))"
   ]
  },
  {
   "cell_type": "code",
   "execution_count": 5,
   "metadata": {},
   "outputs": [],
   "source": [
    "np.save(\"girisverimiz\", girisverisi)"
   ]
  },
  {
   "cell_type": "code",
   "execution_count": 6,
   "metadata": {},
   "outputs": [
    {
     "name": "stdout",
     "output_type": "stream",
     "text": [
      "(400, 224, 224, 3)\n"
     ]
    }
   ],
   "source": [
    "print(girisverisi.shape)"
   ]
  },
  {
   "cell_type": "markdown",
   "metadata": {},
   "source": [
    "# Adım 1: CNN-MaxPool Olayı"
   ]
  },
  {
   "cell_type": "code",
   "execution_count": 7,
   "metadata": {},
   "outputs": [
    {
     "name": "stderr",
     "output_type": "stream",
     "text": [
      "Using TensorFlow backend.\n"
     ]
    }
   ],
   "source": [
    "import keras\n",
    "import numpy as np"
   ]
  },
  {
   "cell_type": "code",
   "execution_count": 8,
   "metadata": {},
   "outputs": [],
   "source": [
    "from keras.models import Sequential\n",
    "from keras.layers.convolutional import Convolution2D, MaxPooling2D\n",
    "from keras.layers import Activation, Flatten, Dense, Dropout\n",
    "from keras import *\n",
    "from keras.layers.normalization import BatchNormalization\n",
    "from keras.layers import Dense,Activation,Conv2D,Dropout,MaxPooling2D\n",
    "from keras.utils import to_categorical\n",
    "\n"
   ]
  },
  {
   "cell_type": "code",
   "execution_count": 9,
   "metadata": {},
   "outputs": [],
   "source": [
    "girisverisi=np.load(\"girisverimiz.npy\")"
   ]
  },
  {
   "cell_type": "code",
   "execution_count": 10,
   "metadata": {},
   "outputs": [],
   "source": [
    "girisverisi=np.reshape(girisverisi,(-1,224,224,3))"
   ]
  },
  {
   "cell_type": "markdown",
   "metadata": {},
   "source": [
    "verilerimi şekillendirdim."
   ]
  },
  {
   "cell_type": "code",
   "execution_count": 11,
   "metadata": {},
   "outputs": [],
   "source": [
    "girisverisi= girisverisi/255"
   ]
  },
  {
   "cell_type": "code",
   "execution_count": 12,
   "metadata": {},
   "outputs": [],
   "source": [
    "cikisverisi=np.array([[1,0],[1,0],[1,0],[1,0],[1,0],[1,0],[1,0],[1,0],[1,0],[1,0],[1,0],[1,0],[1,0],[1,0],[1,0],[1,0],[1,0],[1,0],[1,0],[1,0],[1,0],[1,0],[1,0],[1,0],[1,0],[1,0],[1,0],[1,0],[1,0],[1,0],[1,0],[1,0],[1,0],[1,0],[1,0],[1,0],[1,0],[1,0],[1,0],[1,0],[1,0],[1,0],[1,0],[1,0],[1,0],[1,0],[1,0],[1,0],[1,0],[1,0],[1,0],[1,0],[1,0],[1,0],[1,0],[1,0],[1,0],[1,0],[1,0],[1,0],[1,0],[1,0],[1,0],[1,0],[1,0],[1,0],[1,0],[1,0],[1,0],[1,0],[1,0],[1,0],[1,0],[1,0],[1,0],[1,0],[1,0],[1,0],[1,0],[1,0],[1,0],[1,0],[1,0],[1,0],[1,0],[1,0],[1,0],[1,0],[1,0],[1,0],[1,0],[1,0],[1,0],[1,0],[1,0],[1,0],[1,0],[1,0],[1,0],[1,0],[1,0],[1,0],[1,0],[1,0],[1,0],[1,0],[1,0],[1,0],[1,0],[1,0],[1,0],[1,0],[1,0],[1,0],[1,0],[1,0],[1,0],[1,0],[1,0],[1,0],[1,0],[1,0],[1,0],[1,0],[1,0],[1,0],[1,0],[1,0],[1,0],[1,0],[1,0],[1,0],[1,0],[1,0],[1,0],[1,0],[1,0],[1,0],[1,0],[1,0],[1,0],[1,0],[1,0],[1,0],[1,0],[1,0],[1,0],[1,0],[1,0],[1,0],[1,0],[1,0],[1,0],[1,0],[1,0],[1,0],[1,0],[1,0],[1,0],[1,0],[1,0],[1,0],[1,0],[1,0],[1,0],[1,0],[1,0],[1,0],[1,0],[1,0],[1,0],[1,0],[1,0],[1,0],[1,0],[1,0],[1,0],[1,0],[1,0],[1,0],[1,0],[1,0],[1,0],[1,0],[1,0],[1,0],[1,0],[1,0],[1,0],[1,0],[1,0],[1,0],[1,0],[1,0],[1,0],[1,0],[1,0],[1,0],[1,0],[1,0],[0,1],[0,1],[0,1],[0,1],[0,1],[0,1],[0,1],[0,1],[0,1],[0,1],[0,1],[0,1],[0,1],[0,1],[0,1],[0,1],[0,1],[0,1],[0,1],[0,1],[0,1],[0,1],[0,1],[0,1],[0,1],[0,1],[0,1],[0,1],[0,1],[0,1],[0,1],[0,1],[0,1],[0,1],[0,1],[0,1],[0,1],[0,1],[0,1],[0,1],[0,1],[0,1],[0,1],[0,1],[0,1],[0,1],[0,1],[0,1],[0,1],[0,1],[0,1],[0,1],[0,1],[0,1],[0,1],[0,1],[0,1],[0,1],[0,1],[0,1],[0,1],[0,1],[0,1],[0,1],[0,1],[0,1],[0,1],[0,1],[0,1],[0,1],[0,1],[0,1],[0,1],[0,1],[0,1],[0,1],[0,1],[0,1],[0,1],[0,1],[0,1],[0,1],[0,1],[0,1],[0,1],[0,1],[0,1],[0,1],[0,1],[0,1],[0,1],[0,1],[0,1],[0,1],[0,1],[0,1],[0,1],[0,1],[0,1],[0,1],[0,1],[0,1],[0,1],[0,1],[0,1],[0,1],[0,1],[0,1],[0,1],[0,1],[0,1],[0,1],[0,1],[0,1],[0,1],[0,1],[0,1],[0,1],[0,1],[0,1],[0,1],[0,1],[0,1],[0,1],[0,1],[0,1],[0,1],[0,1],[0,1],[0,1],[0,1],[0,1],[0,1],[0,1],[0,1],[0,1],[0,1],[0,1],[0,1],[0,1],[0,1],[0,1],[0,1],[0,1],[0,1],[0,1],[0,1],[0,1],[0,1],[0,1],[0,1],[0,1],[0,1],[0,1],[0,1],[0,1],[0,1],[0,1],[0,1],[0,1],[0,1],[0,1],[0,1],[0,1],[0,1],[0,1],[0,1],[0,1],[0,1],[0,1],[0,1],[0,1],[0,1],[0,1],[0,1],[0,1],[0,1],[0,1],[0,1],[0,1],[0,1],[0,1],[0,1],[0,1],[0,1],[0,1],[0,1],[0,1],[0,1],[0,1],[0,1],[0,1],[0,1],[0,1],[0,1],[0,1],[0,1],[0,1],[0,1],[0,1],])"
   ]
  },
  {
   "cell_type": "markdown",
   "metadata": {},
   "source": [
    "Verilerimi 0 ve 1 ile etiketledim."
   ]
  },
  {
   "cell_type": "code",
   "execution_count": 13,
   "metadata": {},
   "outputs": [],
   "source": [
    "splitverisi=girisverisi[1:51]"
   ]
  },
  {
   "cell_type": "markdown",
   "metadata": {},
   "source": [
    "doğrulama verilerime her nesne için 50 adet görsel ayırdım(toplamda 100 görsel doğrulamaya ayrıldı).\n",
    "yine her nesne için 150 görsel eğitim yaparken kullanıyorum.(toplamda 300 eğitim görseli)"
   ]
  },
  {
   "cell_type": "markdown",
   "metadata": {},
   "source": [
    "İlk 50 görsel toplarım için doğrulama görseli olarak ayrıldı."
   ]
  },
  {
   "cell_type": "code",
   "execution_count": 14,
   "metadata": {},
   "outputs": [],
   "source": [
    "splitverisi=np.append(splitverisi,girisverisi[350:401])"
   ]
  },
  {
   "cell_type": "markdown",
   "metadata": {},
   "source": [
    "Son 50 görsel ise defterlerim için doğrulama görseli olarak ayrıldı ve topların doğrulama verilerinin üzerine eklendi."
   ]
  },
  {
   "cell_type": "code",
   "execution_count": 15,
   "metadata": {},
   "outputs": [],
   "source": [
    "splitverisi=splitverisi.reshape(-1,224,224,3)"
   ]
  },
  {
   "cell_type": "code",
   "execution_count": 16,
   "metadata": {},
   "outputs": [],
   "source": [
    "splitcikis=np.array([[1,0],[1,0],[1,0],[1,0],[1,0],[1,0],[1,0],[1,0],[1,0],[1,0],[1,0],[1,0],[1,0],[1,0],[1,0],[1,0],[1,0],[1,0],[1,0],[1,0],[1,0],[1,0],[1,0],[1,0],[1,0],[1,0],[1,0],[1,0],[1,0],[1,0],[1,0],[1,0],[1,0],[1,0],[1,0],[1,0],[1,0],[1,0],[1,0],[1,0],[1,0],[1,0],[1,0],[1,0],[1,0],[1,0],[1,0],[1,0],[1,0],[1,0],[0,1],[0,1],[0,1],[0,1],[0,1],[0,1],[0,1],[0,1],[0,1],[0,1],[0,1],[0,1],[0,1],[0,1],[0,1],[0,1],[0,1],[0,1],[0,1],[0,1],[0,1],[0,1],[0,1],[0,1],[0,1],[0,1],[0,1],[0,1],[0,1],[0,1],[0,1],[0,1],[0,1],[0,1],[0,1],[0,1],[0,1],[0,1],[0,1],[0,1],[0,1],[0,1],[0,1],[0,1],[0,1],[0,1],[0,1],[0,1],[0,1],[0,1],])"
   ]
  },
  {
   "cell_type": "markdown",
   "metadata": {},
   "source": [
    "doğrulama için kullanacağım verilerimi split verisi olarak adlandırdım ve onlarıda 0 ve 1 şeklinde etiketledim."
   ]
  },
  {
   "cell_type": "code",
   "execution_count": 17,
   "metadata": {},
   "outputs": [],
   "source": [
    "model =Sequential()"
   ]
  },
  {
   "cell_type": "markdown",
   "metadata": {},
   "source": [
    "Burdan itibaren CNN modelimi oluşturuyorum."
   ]
  },
  {
   "cell_type": "code",
   "execution_count": 18,
   "metadata": {},
   "outputs": [],
   "source": [
    "model.add(layers.Conv2D(50,11, strides=(4,4),input_shape=(224,224,3)))\n",
    "model.add(layers.Conv2D(50,2))\n",
    "model.add(layers.Conv2D(50,2))\n",
    "model.add(layers.Conv2D(50,2))\n",
    "model.add(layers.Conv2D(50,2))\n",
    "model.add(layers.Conv2D(50,3))\n",
    "model.add(layers.Conv2D(50,2))\n",
    "model.add(layers.Conv2D(50,2))\n",
    "model.add(layers.Conv2D(50,2))\n",
    "model.add(layers.MaxPooling2D((5,5)))\n",
    "model.add(layers.Conv2D(50,2))\n",
    "model.add(layers.Conv2D(50,2))\n",
    "model.add(layers.Conv2D(50,2))\n",
    "model.add(layers.MaxPooling2D((3,3)))\n",
    "model.add(layers.Conv2D(50,2))"
   ]
  },
  {
   "cell_type": "code",
   "execution_count": 19,
   "metadata": {},
   "outputs": [],
   "source": [
    "model.add(Flatten())"
   ]
  },
  {
   "cell_type": "code",
   "execution_count": 20,
   "metadata": {},
   "outputs": [],
   "source": [
    "model.add(layers.Dense(200,activation='relu'))\n",
    "model.add(layers.Dense(200,activation='relu'))\n",
    "model.add(layers.Dense(2))\n",
    "model.add(Activation ('softmax'))\n"
   ]
  },
  {
   "cell_type": "code",
   "execution_count": 21,
   "metadata": {},
   "outputs": [],
   "source": [
    " model.compile(loss='binary_crossentropy',optimizer=optimizers.RMSprop(lr=0.00001), metrics= ['acc'])"
   ]
  },
  {
   "cell_type": "code",
   "execution_count": 22,
   "metadata": {},
   "outputs": [
    {
     "name": "stdout",
     "output_type": "stream",
     "text": [
      "Model: \"sequential_1\"\n",
      "_________________________________________________________________\n",
      "Layer (type)                 Output Shape              Param #   \n",
      "=================================================================\n",
      "conv2d_1 (Conv2D)            (None, 54, 54, 50)        18200     \n",
      "_________________________________________________________________\n",
      "conv2d_2 (Conv2D)            (None, 53, 53, 50)        10050     \n",
      "_________________________________________________________________\n",
      "conv2d_3 (Conv2D)            (None, 52, 52, 50)        10050     \n",
      "_________________________________________________________________\n",
      "conv2d_4 (Conv2D)            (None, 51, 51, 50)        10050     \n",
      "_________________________________________________________________\n",
      "conv2d_5 (Conv2D)            (None, 50, 50, 50)        10050     \n",
      "_________________________________________________________________\n",
      "conv2d_6 (Conv2D)            (None, 48, 48, 50)        22550     \n",
      "_________________________________________________________________\n",
      "conv2d_7 (Conv2D)            (None, 47, 47, 50)        10050     \n",
      "_________________________________________________________________\n",
      "conv2d_8 (Conv2D)            (None, 46, 46, 50)        10050     \n",
      "_________________________________________________________________\n",
      "conv2d_9 (Conv2D)            (None, 45, 45, 50)        10050     \n",
      "_________________________________________________________________\n",
      "max_pooling2d_1 (MaxPooling2 (None, 9, 9, 50)          0         \n",
      "_________________________________________________________________\n",
      "conv2d_10 (Conv2D)           (None, 8, 8, 50)          10050     \n",
      "_________________________________________________________________\n",
      "conv2d_11 (Conv2D)           (None, 7, 7, 50)          10050     \n",
      "_________________________________________________________________\n",
      "conv2d_12 (Conv2D)           (None, 6, 6, 50)          10050     \n",
      "_________________________________________________________________\n",
      "max_pooling2d_2 (MaxPooling2 (None, 2, 2, 50)          0         \n",
      "_________________________________________________________________\n",
      "conv2d_13 (Conv2D)           (None, 1, 1, 50)          10050     \n",
      "_________________________________________________________________\n",
      "flatten_1 (Flatten)          (None, 50)                0         \n",
      "_________________________________________________________________\n",
      "dense_1 (Dense)              (None, 200)               10200     \n",
      "_________________________________________________________________\n",
      "dense_2 (Dense)              (None, 200)               40200     \n",
      "_________________________________________________________________\n",
      "dense_3 (Dense)              (None, 2)                 402       \n",
      "_________________________________________________________________\n",
      "activation_1 (Activation)    (None, 2)                 0         \n",
      "=================================================================\n",
      "Total params: 202,102\n",
      "Trainable params: 202,102\n",
      "Non-trainable params: 0\n",
      "_________________________________________________________________\n"
     ]
    }
   ],
   "source": [
    "model.summary()"
   ]
  },
  {
   "cell_type": "code",
   "execution_count": 23,
   "metadata": {},
   "outputs": [
    {
     "name": "stdout",
     "output_type": "stream",
     "text": [
      "Train on 400 samples, validate on 100 samples\n",
      "Epoch 1/30\n",
      "400/400 [==============================] - 15s 37ms/step - loss: 0.6700 - acc: 0.5775 - val_loss: 0.6485 - val_acc: 0.7600\n",
      "Epoch 2/30\n",
      "400/400 [==============================] - 14s 34ms/step - loss: 0.6089 - acc: 0.7325 - val_loss: 0.5494 - val_acc: 0.8100\n",
      "Epoch 3/30\n",
      "400/400 [==============================] - 14s 34ms/step - loss: 0.5091 - acc: 0.7875 - val_loss: 0.4583 - val_acc: 0.7700\n",
      "Epoch 4/30\n",
      "400/400 [==============================] - 13s 34ms/step - loss: 0.4543 - acc: 0.8150 - val_loss: 0.4357 - val_acc: 0.8200\n",
      "Epoch 5/30\n",
      "400/400 [==============================] - 13s 34ms/step - loss: 0.4271 - acc: 0.8250 - val_loss: 0.4623 - val_acc: 0.7900\n",
      "Epoch 6/30\n",
      "400/400 [==============================] - 14s 35ms/step - loss: 0.4082 - acc: 0.8425 - val_loss: 0.4861 - val_acc: 0.7800\n",
      "Epoch 7/30\n",
      "400/400 [==============================] - 14s 34ms/step - loss: 0.3930 - acc: 0.8300 - val_loss: 0.4147 - val_acc: 0.8000\n",
      "Epoch 8/30\n",
      "400/400 [==============================] - 14s 34ms/step - loss: 0.3844 - acc: 0.8400 - val_loss: 0.4306 - val_acc: 0.8000\n",
      "Epoch 9/30\n",
      "400/400 [==============================] - 14s 36ms/step - loss: 0.3714 - acc: 0.8625 - val_loss: 0.4300 - val_acc: 0.7900\n",
      "Epoch 10/30\n",
      "400/400 [==============================] - 14s 35ms/step - loss: 0.3694 - acc: 0.8450 - val_loss: 0.3907 - val_acc: 0.8000\n",
      "Epoch 11/30\n",
      "400/400 [==============================] - 14s 36ms/step - loss: 0.3521 - acc: 0.8650 - val_loss: 0.4058 - val_acc: 0.8000\n",
      "Epoch 12/30\n",
      "400/400 [==============================] - 14s 35ms/step - loss: 0.3465 - acc: 0.8550 - val_loss: 0.3788 - val_acc: 0.7900\n",
      "Epoch 13/30\n",
      "400/400 [==============================] - 14s 35ms/step - loss: 0.3374 - acc: 0.8725 - val_loss: 0.3867 - val_acc: 0.8200\n",
      "Epoch 14/30\n",
      "400/400 [==============================] - 14s 35ms/step - loss: 0.3285 - acc: 0.8650 - val_loss: 0.3389 - val_acc: 0.8400\n",
      "Epoch 15/30\n",
      "400/400 [==============================] - 14s 36ms/step - loss: 0.3152 - acc: 0.8825 - val_loss: 0.3307 - val_acc: 0.8500\n",
      "Epoch 16/30\n",
      "400/400 [==============================] - 14s 36ms/step - loss: 0.3246 - acc: 0.8775 - val_loss: 0.3380 - val_acc: 0.8100\n",
      "Epoch 17/30\n",
      "400/400 [==============================] - 14s 35ms/step - loss: 0.3016 - acc: 0.8850 - val_loss: 0.3575 - val_acc: 0.8300\n",
      "Epoch 18/30\n",
      "400/400 [==============================] - 14s 35ms/step - loss: 0.2982 - acc: 0.8875 - val_loss: 0.3161 - val_acc: 0.8200\n",
      "Epoch 19/30\n",
      "400/400 [==============================] - 14s 36ms/step - loss: 0.2938 - acc: 0.8750 - val_loss: 0.2992 - val_acc: 0.8900\n",
      "Epoch 20/30\n",
      "400/400 [==============================] - 15s 37ms/step - loss: 0.2884 - acc: 0.8975 - val_loss: 0.2768 - val_acc: 0.8500\n",
      "Epoch 21/30\n",
      "400/400 [==============================] - 14s 36ms/step - loss: 0.2856 - acc: 0.8950 - val_loss: 0.2750 - val_acc: 0.9000\n",
      "Epoch 22/30\n",
      "400/400 [==============================] - 14s 36ms/step - loss: 0.2758 - acc: 0.9125 - val_loss: 0.3432 - val_acc: 0.8300\n",
      "Epoch 23/30\n",
      "400/400 [==============================] - 14s 36ms/step - loss: 0.2744 - acc: 0.8875 - val_loss: 0.2539 - val_acc: 0.8700\n",
      "Epoch 24/30\n",
      "400/400 [==============================] - 14s 36ms/step - loss: 0.2580 - acc: 0.8900 - val_loss: 0.3984 - val_acc: 0.8100\n",
      "Epoch 25/30\n",
      "400/400 [==============================] - 15s 36ms/step - loss: 0.2567 - acc: 0.9075 - val_loss: 0.2320 - val_acc: 0.8900\n",
      "Epoch 26/30\n",
      "400/400 [==============================] - 14s 36ms/step - loss: 0.2441 - acc: 0.9150 - val_loss: 0.2558 - val_acc: 0.8700\n",
      "Epoch 27/30\n",
      "400/400 [==============================] - 14s 36ms/step - loss: 0.2414 - acc: 0.9150 - val_loss: 0.3255 - val_acc: 0.8800\n",
      "Epoch 28/30\n",
      "400/400 [==============================] - 15s 37ms/step - loss: 0.2268 - acc: 0.9175 - val_loss: 0.3148 - val_acc: 0.9000\n",
      "Epoch 29/30\n",
      "400/400 [==============================] - 15s 37ms/step - loss: 0.2381 - acc: 0.9125 - val_loss: 0.2091 - val_acc: 0.9200\n",
      "Epoch 30/30\n",
      "400/400 [==============================] - 14s 36ms/step - loss: 0.2251 - acc: 0.9100 - val_loss: 0.1856 - val_acc: 0.9100\n"
     ]
    }
   ],
   "source": [
    "history=model.fit(girisverisi,cikisverisi, batch_size=2, epochs=30, validation_data=(splitverisi,splitcikis))"
   ]
  },
  {
   "cell_type": "code",
   "execution_count": 24,
   "metadata": {},
   "outputs": [],
   "source": [
    "import matplotlib.pyplot as plt"
   ]
  },
  {
   "cell_type": "code",
   "execution_count": 25,
   "metadata": {},
   "outputs": [],
   "source": [
    "acc = history.history['acc']\n",
    "val_acc =history.history['val_acc']\n",
    "loss=history.history['loss']\n",
    "val_loss = history.history['val_loss']\n"
   ]
  },
  {
   "cell_type": "code",
   "execution_count": 26,
   "metadata": {},
   "outputs": [],
   "source": [
    "epochs=range(len(acc))"
   ]
  },
  {
   "cell_type": "code",
   "execution_count": 27,
   "metadata": {},
   "outputs": [
    {
     "data": {
      "image/png": "[encoded data removed]",
      "text/plain": [
       "<Figure size 432x288 with 1 Axes>"
      ]
     },
     "metadata": {
      "needs_background": "light"
     },
     "output_type": "display_data"
    },
    {
     "data": {
      "image/png": "[encoded data removed]",
      "text/plain": [
       "<Figure size 432x288 with 1 Axes>"
      ]
     },
     "metadata": {
      "needs_background": "light"
     },
     "output_type": "display_data"
    }
   ],
   "source": [
    "plt.plot(epochs,acc, 'bo', label= 'training acc')\n",
    "plt.plot(epochs, val_acc,'b', label= 'Validation acc')\n",
    "plt.title('Training and  validation accuracy')\n",
    "plt.legend()\n",
    "\n",
    "plt.figure()\n",
    "\n",
    "plt.plot(epochs,loss, 'bo', label= 'training loss')\n",
    "plt.plot(epochs, val_loss,'b', label= 'Validation loss')\n",
    "plt.title('Training and  validation loss')\n",
    "plt.legend()\n",
    "\n",
    "plt.show()"
   ]
  },
  {
   "cell_type": "markdown",
   "metadata": {},
   "source": [
    "# Grafik Yorumu\n",
    "Modelimiz verisetinin azlığı vb. gibi durumlar sebebiyle verileri ezberlemiş yani overfitting yapmış.Overfit sebebiyle\n",
    "değerleri net bir şekilde bilmiş ve accuracy değeri olarak da 0.9175' lere kadar yükselmiştir."
   ]
  },
  {
   "cell_type": "code",
   "execution_count": 28,
   "metadata": {},
   "outputs": [],
   "source": [
    "model.save(\"versiyonbir\")"
   ]
  },
  {
   "cell_type": "markdown",
   "metadata": {},
   "source": [
    "# Adım2: Data Augmentation Etkisi"
   ]
  },
  {
   "cell_type": "code",
   "execution_count": 29,
   "metadata": {},
   "outputs": [],
   "source": [
    "from keras.preprocessing.image import ImageDataGenerator"
   ]
  },
  {
   "cell_type": "code",
   "execution_count": 30,
   "metadata": {},
   "outputs": [],
   "source": [
    "datagen= ImageDataGenerator(\n",
    "    rotation_range=40,\n",
    "    width_shift_range=0.2,\n",
    "    height_shift_range=0.2,\n",
    "    shear_range=0.2,\n",
    "    zoom_range=0.2,\n",
    "    horizontal_flip=True,\n",
    "    vertical_flip=True,\n",
    "    fill_mode='nearest')"
   ]
  },
  {
   "cell_type": "markdown",
   "metadata": {},
   "source": [
    "Verisetimizin azlığından kaynaklanan overfitting problemini çözmek amacıyla verilerimizi arttıracağız.\n",
    "Verdiğimiz parametrelerle resmimizi 40 derece döndürmek,yatay ve dikey olarak çevirmek gibi işlemler yapıyoruz."
   ]
  },
  {
   "cell_type": "code",
   "execution_count": 31,
   "metadata": {},
   "outputs": [],
   "source": [
    "datagen.fit(girisverisi)"
   ]
  },
  {
   "cell_type": "markdown",
   "metadata": {},
   "source": [
    "Eğitim datamızı augmente edeceğiz sadece, validation datasına uygulamayacağız."
   ]
  },
  {
   "cell_type": "code",
   "execution_count": 32,
   "metadata": {
    "scrolled": false
   },
   "outputs": [
    {
     "name": "stdout",
     "output_type": "stream",
     "text": [
      "Epoch 1/100\n",
      "100/100 [==============================] - 12s 118ms/step - loss: 0.9277 - acc: 0.6325 - val_loss: 0.2481 - val_acc: 0.8600\n",
      "Epoch 2/100\n",
      "100/100 [==============================] - 12s 122ms/step - loss: 0.6836 - acc: 0.6550 - val_loss: 0.3234 - val_acc: 0.8700\n",
      "Epoch 3/100\n",
      "100/100 [==============================] - 12s 123ms/step - loss: 0.5637 - acc: 0.7300 - val_loss: 0.3305 - val_acc: 0.8500\n",
      "Epoch 4/100\n",
      "100/100 [==============================] - 12s 121ms/step - loss: 0.5615 - acc: 0.7075 - val_loss: 0.3953 - val_acc: 0.8200\n",
      "Epoch 5/100\n",
      "100/100 [==============================] - 12s 121ms/step - loss: 0.5767 - acc: 0.7350 - val_loss: 0.3323 - val_acc: 0.8500\n",
      "Epoch 6/100\n",
      "100/100 [==============================] - 12s 121ms/step - loss: 0.5465 - acc: 0.7375 - val_loss: 0.3363 - val_acc: 0.8500\n",
      "Epoch 7/100\n",
      "100/100 [==============================] - 12s 121ms/step - loss: 0.5460 - acc: 0.7250 - val_loss: 0.3214 - val_acc: 0.8600\n",
      "Epoch 8/100\n",
      "100/100 [==============================] - 12s 119ms/step - loss: 0.5540 - acc: 0.7475 - val_loss: 0.4098 - val_acc: 0.7900\n",
      "Epoch 9/100\n",
      "100/100 [==============================] - 12s 117ms/step - loss: 0.5606 - acc: 0.7150 - val_loss: 0.3727 - val_acc: 0.8200\n",
      "Epoch 10/100\n",
      "100/100 [==============================] - 12s 120ms/step - loss: 0.5275 - acc: 0.7275 - val_loss: 0.3270 - val_acc: 0.8600\n",
      "Epoch 11/100\n",
      "100/100 [==============================] - 12s 121ms/step - loss: 0.5337 - acc: 0.7250 - val_loss: 0.3271 - val_acc: 0.8500\n",
      "Epoch 12/100\n",
      "100/100 [==============================] - 12s 120ms/step - loss: 0.5056 - acc: 0.7425 - val_loss: 0.3302 - val_acc: 0.8500\n",
      "Epoch 13/100\n",
      "100/100 [==============================] - 12s 118ms/step - loss: 0.5195 - acc: 0.7425 - val_loss: 0.3671 - val_acc: 0.8300\n",
      "Epoch 14/100\n",
      "100/100 [==============================] - 12s 120ms/step - loss: 0.5141 - acc: 0.7850 - val_loss: 0.3411 - val_acc: 0.8200\n",
      "Epoch 15/100\n",
      "100/100 [==============================] - 12s 119ms/step - loss: 0.5277 - acc: 0.7500 - val_loss: 0.3535 - val_acc: 0.8500\n",
      "Epoch 16/100\n",
      "100/100 [==============================] - 12s 123ms/step - loss: 0.5061 - acc: 0.7525 - val_loss: 0.3344 - val_acc: 0.8400\n",
      "Epoch 17/100\n",
      "100/100 [==============================] - 12s 121ms/step - loss: 0.4907 - acc: 0.7700 - val_loss: 0.3433 - val_acc: 0.8100\n",
      "Epoch 18/100\n",
      "100/100 [==============================] - 12s 119ms/step - loss: 0.5228 - acc: 0.7775 - val_loss: 0.4003 - val_acc: 0.8300\n",
      "Epoch 19/100\n",
      "100/100 [==============================] - 12s 120ms/step - loss: 0.5035 - acc: 0.7675 - val_loss: 0.3546 - val_acc: 0.8500\n",
      "Epoch 20/100\n",
      "100/100 [==============================] - 12s 121ms/step - loss: 0.5338 - acc: 0.7050 - val_loss: 0.3541 - val_acc: 0.8400\n",
      "Epoch 21/100\n",
      "100/100 [==============================] - 12s 121ms/step - loss: 0.4997 - acc: 0.7550 - val_loss: 0.3571 - val_acc: 0.8300\n",
      "Epoch 22/100\n",
      "100/100 [==============================] - 12s 125ms/step - loss: 0.5120 - acc: 0.7675 - val_loss: 0.3547 - val_acc: 0.8400\n",
      "Epoch 23/100\n",
      "100/100 [==============================] - 12s 120ms/step - loss: 0.4897 - acc: 0.7775 - val_loss: 0.3747 - val_acc: 0.8500\n",
      "Epoch 24/100\n",
      "100/100 [==============================] - 12s 121ms/step - loss: 0.5122 - acc: 0.7725 - val_loss: 0.3527 - val_acc: 0.8300\n",
      "Epoch 25/100\n",
      "100/100 [==============================] - 12s 119ms/step - loss: 0.5407 - acc: 0.7450 - val_loss: 0.3540 - val_acc: 0.8500\n",
      "Epoch 26/100\n",
      "100/100 [==============================] - 12s 119ms/step - loss: 0.5223 - acc: 0.7350 - val_loss: 0.3704 - val_acc: 0.8400\n",
      "Epoch 27/100\n",
      "100/100 [==============================] - 12s 123ms/step - loss: 0.4888 - acc: 0.7775 - val_loss: 0.3415 - val_acc: 0.8400\n",
      "Epoch 28/100\n",
      "100/100 [==============================] - 12s 121ms/step - loss: 0.4772 - acc: 0.7925 - val_loss: 0.4145 - val_acc: 0.8200\n",
      "Epoch 29/100\n",
      "100/100 [==============================] - 12s 119ms/step - loss: 0.5005 - acc: 0.7700 - val_loss: 0.3655 - val_acc: 0.8400\n",
      "Epoch 30/100\n",
      "100/100 [==============================] - 12s 120ms/step - loss: 0.5114 - acc: 0.7525 - val_loss: 0.4254 - val_acc: 0.8100\n",
      "Epoch 31/100\n",
      "100/100 [==============================] - 12s 120ms/step - loss: 0.4840 - acc: 0.7650 - val_loss: 0.3508 - val_acc: 0.8300\n",
      "Epoch 32/100\n",
      "100/100 [==============================] - 12s 122ms/step - loss: 0.4915 - acc: 0.7650 - val_loss: 0.3478 - val_acc: 0.8400\n",
      "Epoch 33/100\n",
      "100/100 [==============================] - 12s 121ms/step - loss: 0.4899 - acc: 0.7675 - val_loss: 0.3978 - val_acc: 0.8400\n",
      "Epoch 34/100\n",
      "100/100 [==============================] - 12s 120ms/step - loss: 0.4882 - acc: 0.7750 - val_loss: 0.4419 - val_acc: 0.7900\n",
      "Epoch 35/100\n",
      "100/100 [==============================] - 12s 120ms/step - loss: 0.4929 - acc: 0.7450 - val_loss: 0.4065 - val_acc: 0.8300\n",
      "Epoch 36/100\n",
      "100/100 [==============================] - 12s 121ms/step - loss: 0.4756 - acc: 0.7800 - val_loss: 0.3663 - val_acc: 0.8300\n",
      "Epoch 37/100\n",
      "100/100 [==============================] - 12s 120ms/step - loss: 0.4833 - acc: 0.7550 - val_loss: 0.4073 - val_acc: 0.8100\n",
      "Epoch 38/100\n",
      "100/100 [==============================] - 12s 122ms/step - loss: 0.4944 - acc: 0.7575 - val_loss: 0.4550 - val_acc: 0.7900\n",
      "Epoch 39/100\n",
      "100/100 [==============================] - 12s 122ms/step - loss: 0.4910 - acc: 0.7550 - val_loss: 0.3960 - val_acc: 0.8100\n",
      "Epoch 40/100\n",
      "100/100 [==============================] - 12s 124ms/step - loss: 0.4618 - acc: 0.7850 - val_loss: 0.3547 - val_acc: 0.8500\n",
      "Epoch 41/100\n",
      "100/100 [==============================] - 12s 120ms/step - loss: 0.4853 - acc: 0.7775 - val_loss: 0.3544 - val_acc: 0.8200\n",
      "Epoch 42/100\n",
      "100/100 [==============================] - 12s 120ms/step - loss: 0.4793 - acc: 0.7900 - val_loss: 0.3807 - val_acc: 0.8400\n",
      "Epoch 43/100\n",
      "100/100 [==============================] - 12s 123ms/step - loss: 0.4905 - acc: 0.7575 - val_loss: 0.3996 - val_acc: 0.8500\n",
      "Epoch 44/100\n",
      "100/100 [==============================] - 12s 121ms/step - loss: 0.4875 - acc: 0.7875 - val_loss: 0.3467 - val_acc: 0.8400\n",
      "Epoch 45/100\n",
      "100/100 [==============================] - 12s 120ms/step - loss: 0.4868 - acc: 0.7725 - val_loss: 0.3924 - val_acc: 0.8300\n",
      "Epoch 46/100\n",
      "100/100 [==============================] - 12s 119ms/step - loss: 0.4682 - acc: 0.7925 - val_loss: 0.3767 - val_acc: 0.8300\n",
      "Epoch 47/100\n",
      "100/100 [==============================] - 12s 120ms/step - loss: 0.4672 - acc: 0.7600 - val_loss: 0.3588 - val_acc: 0.8300\n",
      "Epoch 48/100\n",
      "100/100 [==============================] - 12s 122ms/step - loss: 0.4712 - acc: 0.7800 - val_loss: 0.3399 - val_acc: 0.8700\n",
      "Epoch 49/100\n",
      "100/100 [==============================] - 12s 123ms/step - loss: 0.4657 - acc: 0.7900 - val_loss: 0.3309 - val_acc: 0.8400\n",
      "Epoch 50/100\n",
      "100/100 [==============================] - 12s 120ms/step - loss: 0.4660 - acc: 0.7750 - val_loss: 0.3508 - val_acc: 0.8300\n",
      "Epoch 51/100\n",
      "100/100 [==============================] - 12s 120ms/step - loss: 0.5005 - acc: 0.7500 - val_loss: 0.3620 - val_acc: 0.8400\n",
      "Epoch 52/100\n",
      "100/100 [==============================] - 12s 120ms/step - loss: 0.4784 - acc: 0.7825 - val_loss: 0.3283 - val_acc: 0.8300\n",
      "Epoch 53/100\n",
      "100/100 [==============================] - 12s 122ms/step - loss: 0.4975 - acc: 0.7400 - val_loss: 0.4051 - val_acc: 0.8600\n",
      "Epoch 54/100\n",
      "100/100 [==============================] - 12s 122ms/step - loss: 0.4527 - acc: 0.7925 - val_loss: 0.3340 - val_acc: 0.8200\n",
      "Epoch 55/100\n",
      "100/100 [==============================] - 12s 121ms/step - loss: 0.5083 - acc: 0.7700 - val_loss: 0.3991 - val_acc: 0.8300\n",
      "Epoch 56/100\n",
      "100/100 [==============================] - 12s 120ms/step - loss: 0.4761 - acc: 0.7875 - val_loss: 0.4311 - val_acc: 0.8100\n",
      "Epoch 57/100\n",
      "100/100 [==============================] - 12s 120ms/step - loss: 0.4682 - acc: 0.7500 - val_loss: 0.3597 - val_acc: 0.8600\n",
      "Epoch 58/100\n",
      "100/100 [==============================] - 12s 120ms/step - loss: 0.4549 - acc: 0.7700 - val_loss: 0.3592 - val_acc: 0.8400\n",
      "Epoch 59/100\n",
      "100/100 [==============================] - 12s 122ms/step - loss: 0.4583 - acc: 0.7975 - val_loss: 0.3804 - val_acc: 0.8300\n",
      "Epoch 60/100\n",
      "100/100 [==============================] - 12s 122ms/step - loss: 0.4475 - acc: 0.7925 - val_loss: 0.3442 - val_acc: 0.8500\n"
     ]
    },
    {
     "name": "stdout",
     "output_type": "stream",
     "text": [
      "Epoch 61/100\n",
      "100/100 [==============================] - 12s 120ms/step - loss: 0.4609 - acc: 0.7825 - val_loss: 0.3368 - val_acc: 0.8200\n",
      "Epoch 62/100\n",
      "100/100 [==============================] - 12s 119ms/step - loss: 0.4597 - acc: 0.7825 - val_loss: 0.4436 - val_acc: 0.7900\n",
      "Epoch 63/100\n",
      "100/100 [==============================] - 12s 119ms/step - loss: 0.4863 - acc: 0.7925 - val_loss: 0.3347 - val_acc: 0.8400\n",
      "Epoch 64/100\n",
      "100/100 [==============================] - 12s 120ms/step - loss: 0.4510 - acc: 0.7850 - val_loss: 0.4363 - val_acc: 0.8000\n",
      "Epoch 65/100\n",
      "100/100 [==============================] - 12s 122ms/step - loss: 0.4584 - acc: 0.7900 - val_loss: 0.3319 - val_acc: 0.8400\n",
      "Epoch 66/100\n",
      "100/100 [==============================] - 12s 119ms/step - loss: 0.4559 - acc: 0.7975 - val_loss: 0.3363 - val_acc: 0.8300\n",
      "Epoch 67/100\n",
      "100/100 [==============================] - 12s 119ms/step - loss: 0.4935 - acc: 0.7750 - val_loss: 0.3444 - val_acc: 0.8500\n",
      "Epoch 68/100\n",
      "100/100 [==============================] - 12s 119ms/step - loss: 0.4583 - acc: 0.7925 - val_loss: 0.3974 - val_acc: 0.8400\n",
      "Epoch 69/100\n",
      "100/100 [==============================] - 12s 121ms/step - loss: 0.4735 - acc: 0.7675 - val_loss: 0.3773 - val_acc: 0.8500\n",
      "Epoch 70/100\n",
      "100/100 [==============================] - 12s 120ms/step - loss: 0.4756 - acc: 0.7900 - val_loss: 0.4294 - val_acc: 0.8300\n",
      "Epoch 71/100\n",
      "100/100 [==============================] - 12s 122ms/step - loss: 0.4487 - acc: 0.7850 - val_loss: 0.3529 - val_acc: 0.8500\n",
      "Epoch 72/100\n",
      "100/100 [==============================] - 12s 120ms/step - loss: 0.4677 - acc: 0.7850 - val_loss: 0.3525 - val_acc: 0.8500\n",
      "Epoch 73/100\n",
      "100/100 [==============================] - 12s 121ms/step - loss: 0.4246 - acc: 0.8125 - val_loss: 0.3336 - val_acc: 0.8500\n",
      "Epoch 74/100\n",
      "100/100 [==============================] - 12s 120ms/step - loss: 0.4250 - acc: 0.8075 - val_loss: 0.3249 - val_acc: 0.8500\n",
      "Epoch 75/100\n",
      "100/100 [==============================] - 12s 121ms/step - loss: 0.4436 - acc: 0.7925 - val_loss: 0.3295 - val_acc: 0.8500\n",
      "Epoch 76/100\n",
      "100/100 [==============================] - 12s 122ms/step - loss: 0.4676 - acc: 0.7725 - val_loss: 0.3307 - val_acc: 0.8500\n",
      "Epoch 77/100\n",
      "100/100 [==============================] - 12s 121ms/step - loss: 0.4332 - acc: 0.8050 - val_loss: 0.3295 - val_acc: 0.8500\n",
      "Epoch 78/100\n",
      "100/100 [==============================] - 12s 119ms/step - loss: 0.4390 - acc: 0.8050 - val_loss: 0.3702 - val_acc: 0.8100\n",
      "Epoch 79/100\n",
      "100/100 [==============================] - 12s 120ms/step - loss: 0.4353 - acc: 0.8075 - val_loss: 0.3256 - val_acc: 0.8700\n",
      "Epoch 80/100\n",
      "100/100 [==============================] - 12s 120ms/step - loss: 0.4563 - acc: 0.7875 - val_loss: 0.3693 - val_acc: 0.8600\n",
      "Epoch 81/100\n",
      "100/100 [==============================] - 12s 122ms/step - loss: 0.4458 - acc: 0.7825 - val_loss: 0.3584 - val_acc: 0.8200\n",
      "Epoch 82/100\n",
      "100/100 [==============================] - 12s 120ms/step - loss: 0.4336 - acc: 0.7950 - val_loss: 0.3479 - val_acc: 0.8700\n",
      "Epoch 83/100\n",
      "100/100 [==============================] - 12s 121ms/step - loss: 0.4664 - acc: 0.7950 - val_loss: 0.3371 - val_acc: 0.8500\n",
      "Epoch 84/100\n",
      "100/100 [==============================] - 12s 121ms/step - loss: 0.4556 - acc: 0.7975 - val_loss: 0.3450 - val_acc: 0.8500\n",
      "Epoch 85/100\n",
      "100/100 [==============================] - 12s 120ms/step - loss: 0.4464 - acc: 0.7825 - val_loss: 0.3753 - val_acc: 0.8200\n",
      "Epoch 86/100\n",
      "100/100 [==============================] - 12s 121ms/step - loss: 0.4452 - acc: 0.7900 - val_loss: 0.3632 - val_acc: 0.8500\n",
      "Epoch 87/100\n",
      "100/100 [==============================] - 12s 123ms/step - loss: 0.4440 - acc: 0.8125 - val_loss: 0.3950 - val_acc: 0.8100\n",
      "Epoch 88/100\n",
      "100/100 [==============================] - 12s 120ms/step - loss: 0.4443 - acc: 0.7975 - val_loss: 0.3431 - val_acc: 0.8200\n",
      "Epoch 89/100\n",
      "100/100 [==============================] - 12s 120ms/step - loss: 0.4253 - acc: 0.8100 - val_loss: 0.3451 - val_acc: 0.8700\n",
      "Epoch 90/100\n",
      "100/100 [==============================] - 12s 119ms/step - loss: 0.4146 - acc: 0.8175 - val_loss: 0.3163 - val_acc: 0.8500\n",
      "Epoch 91/100\n",
      "100/100 [==============================] - 12s 120ms/step - loss: 0.4462 - acc: 0.7975 - val_loss: 0.3801 - val_acc: 0.8200\n",
      "Epoch 92/100\n",
      "100/100 [==============================] - 12s 123ms/step - loss: 0.4482 - acc: 0.8000 - val_loss: 0.3581 - val_acc: 0.8400\n",
      "Epoch 93/100\n",
      "100/100 [==============================] - 12s 121ms/step - loss: 0.4183 - acc: 0.8025 - val_loss: 0.3298 - val_acc: 0.8700\n",
      "Epoch 94/100\n",
      "100/100 [==============================] - 12s 122ms/step - loss: 0.4366 - acc: 0.8025 - val_loss: 0.3343 - val_acc: 0.8700\n",
      "Epoch 95/100\n",
      "100/100 [==============================] - 12s 120ms/step - loss: 0.4675 - acc: 0.7800 - val_loss: 0.3257 - val_acc: 0.8700\n",
      "Epoch 96/100\n",
      "100/100 [==============================] - 12s 121ms/step - loss: 0.4400 - acc: 0.8100 - val_loss: 0.3302 - val_acc: 0.8600\n",
      "Epoch 97/100\n",
      "100/100 [==============================] - 12s 122ms/step - loss: 0.4688 - acc: 0.8050 - val_loss: 0.4050 - val_acc: 0.8200\n",
      "Epoch 98/100\n",
      "100/100 [==============================] - 12s 123ms/step - loss: 0.4329 - acc: 0.8025 - val_loss: 0.3220 - val_acc: 0.8500\n",
      "Epoch 99/100\n",
      "100/100 [==============================] - 12s 121ms/step - loss: 0.4533 - acc: 0.7875 - val_loss: 0.3383 - val_acc: 0.8300\n",
      "Epoch 100/100\n",
      "100/100 [==============================] - 12s 122ms/step - loss: 0.4023 - acc: 0.8275 - val_loss: 0.3921 - val_acc: 0.8100\n"
     ]
    }
   ],
   "source": [
    "history=model.fit_generator(datagen.flow(girisverisi,cikisverisi,batch_size=4),\n",
    "                    epochs=100,\n",
    "                    validation_data=(splitverisi,splitcikis),\n",
    "                    workers=4)\n",
    "                "
   ]
  },
  {
   "cell_type": "code",
   "execution_count": 33,
   "metadata": {},
   "outputs": [],
   "source": [
    "acc = history.history['acc']\n",
    "val_acc =history.history['val_acc']\n",
    "loss=history.history['loss']\n",
    "val_loss = history.history['val_loss']\n"
   ]
  },
  {
   "cell_type": "code",
   "execution_count": 34,
   "metadata": {},
   "outputs": [],
   "source": [
    "epochs=range(len(acc))"
   ]
  },
  {
   "cell_type": "code",
   "execution_count": 35,
   "metadata": {},
   "outputs": [],
   "source": [
    "import matplotlib.pyplot as plt"
   ]
  },
  {
   "cell_type": "code",
   "execution_count": 36,
   "metadata": {},
   "outputs": [
    {
     "data": {
      "image/png": "[encoded data removed]",
      "text/plain": [
       "<Figure size 432x288 with 1 Axes>"
      ]
     },
     "metadata": {
      "needs_background": "light"
     },
     "output_type": "display_data"
    },
    {
     "data": {
      "image/png": "[encoded data removed]",
      "text/plain": [
       "<Figure size 432x288 with 1 Axes>"
      ]
     },
     "metadata": {
      "needs_background": "light"
     },
     "output_type": "display_data"
    }
   ],
   "source": [
    "plt.plot(epochs,acc, 'bo', label= 'training acc')\n",
    "plt.plot(epochs, val_acc,'b', label= 'Validation acc')\n",
    "plt.title('Training and  validation accuracy')\n",
    "plt.legend()\n",
    "\n",
    "plt.figure()\n",
    "\n",
    "plt.plot(epochs,loss, 'bo', label= 'training loss')\n",
    "plt.plot(epochs, val_loss,'b', label= 'Validation loss')\n",
    "plt.title('Training and  validation loss')\n",
    "plt.legend()\n",
    "\n",
    "plt.show()\n",
    "\n"
   ]
  },
  {
   "cell_type": "markdown",
   "metadata": {},
   "source": [
    "# Grafik Yorumu \n",
    "Artık overfitting problemi bir önceki aşamadan daha az gözleniyor. Model ezber yapmadığı için nokta atışı tahminlerde bulunamadı.\n",
    "Dolayısıyla accuracy değerlerimiz ilk aşamaya göre biraz düşüş yaşadı."
   ]
  },
  {
   "cell_type": "code",
   "execution_count": 37,
   "metadata": {},
   "outputs": [],
   "source": [
    "model.save(\"versiyoniki\")"
   ]
  },
  {
   "cell_type": "markdown",
   "metadata": {},
   "source": [
    " # Adım 3: Augmentation ve Dropout etkisi"
   ]
  },
  {
   "cell_type": "code",
   "execution_count": 38,
   "metadata": {},
   "outputs": [],
   "source": [
    "model =Sequential()\n",
    "model.add(layers.Conv2D(50,11, strides=(4,4),input_shape=(224,224,3)))\n",
    "model.add(layers.Conv2D(50,2))\n",
    "model.add(layers.Conv2D(50,2))\n",
    "model.add(layers.Conv2D(50,2))\n",
    "model.add(layers.Conv2D(50,2))\n",
    "model.add(layers.Conv2D(50,3))\n",
    "model.add(layers.Conv2D(50,2))\n",
    "model.add(layers.Conv2D(50,2))\n",
    "model.add(layers.Conv2D(50,2))\n",
    "model.add(layers.MaxPooling2D((5,5)))\n",
    "model.add(layers.Conv2D(50,2))\n",
    "model.add(layers.Conv2D(50,2))\n",
    "model.add(layers.Conv2D(50,2))\n",
    "model.add(layers.MaxPooling2D((3,3)))\n",
    "model.add(layers.Conv2D(50,2))"
   ]
  },
  {
   "cell_type": "code",
   "execution_count": 39,
   "metadata": {},
   "outputs": [],
   "source": [
    "model.add(Flatten())"
   ]
  },
  {
   "cell_type": "code",
   "execution_count": 40,
   "metadata": {},
   "outputs": [],
   "source": [
    "model.add(layers.Dense(200,activation='relu'))\n",
    "model.add(Dropout(0.5))\n",
    "model.add(layers.Dense(200,activation='relu'))\n",
    "model.add(Dropout(0.5))\n",
    "model.add(layers.Dense(2))\n",
    "model.add(Activation ('softmax'))"
   ]
  },
  {
   "cell_type": "markdown",
   "metadata": {},
   "source": [
    "Artık modelimize augmentation üzerine bir de dropout ekliyoruz.\n",
    "Dropout işlemini bazı nöronları unutup,overfittingi önlemek için gerçekleştiriyoruz."
   ]
  },
  {
   "cell_type": "code",
   "execution_count": 43,
   "metadata": {},
   "outputs": [],
   "source": [
    " model.compile(loss='binary_crossentropy',optimizer=optimizers.RMSprop(lr=0.00001), metrics= ['acc'])"
   ]
  },
  {
   "cell_type": "code",
   "execution_count": 44,
   "metadata": {},
   "outputs": [],
   "source": [
    "from keras.preprocessing.image import ImageDataGenerator"
   ]
  },
  {
   "cell_type": "code",
   "execution_count": 45,
   "metadata": {},
   "outputs": [],
   "source": [
    "datagen= ImageDataGenerator(\n",
    "    rotation_range=40,\n",
    "    width_shift_range=0.2,\n",
    "    height_shift_range=0.2,\n",
    "    shear_range=0.2,\n",
    "    zoom_range=0.2,\n",
    "    horizontal_flip=True,\n",
    "    vertical_flip=True,)"
   ]
  },
  {
   "cell_type": "code",
   "execution_count": 46,
   "metadata": {},
   "outputs": [],
   "source": [
    "datagen.fit(girisverisi)"
   ]
  },
  {
   "cell_type": "code",
   "execution_count": 47,
   "metadata": {
    "scrolled": false
   },
   "outputs": [
    {
     "name": "stdout",
     "output_type": "stream",
     "text": [
      "Epoch 1/100\n",
      "100/100 [==============================] - 12s 118ms/step - loss: 0.6942 - acc: 0.4825 - val_loss: 0.6774 - val_acc: 0.6600\n",
      "Epoch 2/100\n",
      "100/100 [==============================] - 12s 115ms/step - loss: 0.6885 - acc: 0.5300 - val_loss: 0.6713 - val_acc: 0.6100\n",
      "Epoch 3/100\n",
      "100/100 [==============================] - 12s 116ms/step - loss: 0.6787 - acc: 0.5550 - val_loss: 0.6762 - val_acc: 0.6300\n",
      "Epoch 4/100\n",
      "100/100 [==============================] - 12s 117ms/step - loss: 0.6767 - acc: 0.5750 - val_loss: 0.6635 - val_acc: 0.7000\n",
      "Epoch 5/100\n",
      "100/100 [==============================] - 12s 118ms/step - loss: 0.6730 - acc: 0.5900 - val_loss: 0.6522 - val_acc: 0.6900\n",
      "Epoch 6/100\n",
      "100/100 [==============================] - 12s 119ms/step - loss: 0.6550 - acc: 0.6225 - val_loss: 0.6494 - val_acc: 0.6800\n",
      "Epoch 7/100\n",
      "100/100 [==============================] - 12s 118ms/step - loss: 0.6675 - acc: 0.5825 - val_loss: 0.6445 - val_acc: 0.6500\n",
      "Epoch 8/100\n",
      "100/100 [==============================] - 12s 119ms/step - loss: 0.6606 - acc: 0.6025 - val_loss: 0.6414 - val_acc: 0.6500\n",
      "Epoch 9/100\n",
      "100/100 [==============================] - 12s 118ms/step - loss: 0.6504 - acc: 0.5975 - val_loss: 0.6316 - val_acc: 0.6300\n",
      "Epoch 10/100\n",
      "100/100 [==============================] - 12s 120ms/step - loss: 0.6435 - acc: 0.6225 - val_loss: 0.6166 - val_acc: 0.6600\n",
      "Epoch 11/100\n",
      "100/100 [==============================] - 12s 122ms/step - loss: 0.6383 - acc: 0.6350 - val_loss: 0.5999 - val_acc: 0.7100\n",
      "Epoch 12/100\n",
      "100/100 [==============================] - 12s 121ms/step - loss: 0.6217 - acc: 0.6500 - val_loss: 0.6107 - val_acc: 0.6800\n",
      "Epoch 13/100\n",
      "100/100 [==============================] - 12s 120ms/step - loss: 0.6276 - acc: 0.6500 - val_loss: 0.5958 - val_acc: 0.6800\n",
      "Epoch 14/100\n",
      "100/100 [==============================] - 12s 120ms/step - loss: 0.6016 - acc: 0.6700 - val_loss: 0.5915 - val_acc: 0.6700\n",
      "Epoch 15/100\n",
      "100/100 [==============================] - 12s 121ms/step - loss: 0.6157 - acc: 0.6600 - val_loss: 0.5659 - val_acc: 0.7200\n",
      "Epoch 16/100\n",
      "100/100 [==============================] - 12s 123ms/step - loss: 0.6047 - acc: 0.6850 - val_loss: 0.5621 - val_acc: 0.7200\n",
      "Epoch 17/100\n",
      "100/100 [==============================] - 12s 119ms/step - loss: 0.6074 - acc: 0.6750 - val_loss: 0.5455 - val_acc: 0.7600\n",
      "Epoch 18/100\n",
      "100/100 [==============================] - 12s 120ms/step - loss: 0.5955 - acc: 0.6600 - val_loss: 0.5731 - val_acc: 0.6800\n",
      "Epoch 19/100\n",
      "100/100 [==============================] - 12s 119ms/step - loss: 0.5914 - acc: 0.6750 - val_loss: 0.5394 - val_acc: 0.7600\n",
      "Epoch 20/100\n",
      "100/100 [==============================] - 12s 120ms/step - loss: 0.6048 - acc: 0.6675 - val_loss: 0.5425 - val_acc: 0.7200\n",
      "Epoch 21/100\n",
      "100/100 [==============================] - 12s 121ms/step - loss: 0.5714 - acc: 0.6950 - val_loss: 0.5870 - val_acc: 0.6700\n",
      "Epoch 22/100\n",
      "100/100 [==============================] - 12s 122ms/step - loss: 0.5920 - acc: 0.7025 - val_loss: 0.5441 - val_acc: 0.7000\n",
      "Epoch 23/100\n",
      "100/100 [==============================] - 12s 121ms/step - loss: 0.5746 - acc: 0.6825 - val_loss: 0.5596 - val_acc: 0.6800\n",
      "Epoch 24/100\n",
      "100/100 [==============================] - 12s 121ms/step - loss: 0.5621 - acc: 0.6950 - val_loss: 0.5328 - val_acc: 0.7200\n",
      "Epoch 25/100\n",
      "100/100 [==============================] - 12s 119ms/step - loss: 0.5587 - acc: 0.7075 - val_loss: 0.5153 - val_acc: 0.7500\n",
      "Epoch 26/100\n",
      "100/100 [==============================] - 12s 121ms/step - loss: 0.5699 - acc: 0.6725 - val_loss: 0.5236 - val_acc: 0.7400\n",
      "Epoch 27/100\n",
      "100/100 [==============================] - 13s 125ms/step - loss: 0.5582 - acc: 0.7125 - val_loss: 0.5126 - val_acc: 0.7700\n",
      "Epoch 28/100\n",
      "100/100 [==============================] - 12s 122ms/step - loss: 0.5544 - acc: 0.7100 - val_loss: 0.5179 - val_acc: 0.7600\n",
      "Epoch 29/100\n",
      "100/100 [==============================] - 12s 120ms/step - loss: 0.5484 - acc: 0.7350 - val_loss: 0.5602 - val_acc: 0.7000\n",
      "Epoch 30/100\n",
      "100/100 [==============================] - 12s 120ms/step - loss: 0.5547 - acc: 0.7050 - val_loss: 0.5211 - val_acc: 0.7400\n",
      "Epoch 31/100\n",
      "100/100 [==============================] - 12s 120ms/step - loss: 0.5599 - acc: 0.7125 - val_loss: 0.5032 - val_acc: 0.7800\n",
      "Epoch 32/100\n",
      "100/100 [==============================] - 12s 122ms/step - loss: 0.5520 - acc: 0.7200 - val_loss: 0.5017 - val_acc: 0.7900\n",
      "Epoch 33/100\n",
      "100/100 [==============================] - 12s 121ms/step - loss: 0.5580 - acc: 0.7100 - val_loss: 0.5667 - val_acc: 0.6700\n",
      "Epoch 34/100\n",
      "100/100 [==============================] - 12s 121ms/step - loss: 0.5735 - acc: 0.6900 - val_loss: 0.4975 - val_acc: 0.7800\n",
      "Epoch 35/100\n",
      "100/100 [==============================] - 12s 121ms/step - loss: 0.5458 - acc: 0.7125 - val_loss: 0.4976 - val_acc: 0.7900\n",
      "Epoch 36/100\n",
      "100/100 [==============================] - 12s 121ms/step - loss: 0.5474 - acc: 0.7400 - val_loss: 0.5257 - val_acc: 0.7300\n",
      "Epoch 37/100\n",
      "100/100 [==============================] - 12s 120ms/step - loss: 0.5473 - acc: 0.7025 - val_loss: 0.5191 - val_acc: 0.7500\n",
      "Epoch 38/100\n",
      "100/100 [==============================] - 12s 123ms/step - loss: 0.5472 - acc: 0.7100 - val_loss: 0.5222 - val_acc: 0.7400\n",
      "Epoch 39/100\n",
      "100/100 [==============================] - 12s 122ms/step - loss: 0.5507 - acc: 0.7375 - val_loss: 0.5125 - val_acc: 0.7600\n",
      "Epoch 40/100\n",
      "100/100 [==============================] - 12s 121ms/step - loss: 0.5506 - acc: 0.7300 - val_loss: 0.5061 - val_acc: 0.7800\n",
      "Epoch 41/100\n",
      "100/100 [==============================] - 12s 121ms/step - loss: 0.5794 - acc: 0.7050 - val_loss: 0.5275 - val_acc: 0.7300\n",
      "Epoch 42/100\n",
      "100/100 [==============================] - 12s 121ms/step - loss: 0.5282 - acc: 0.7475 - val_loss: 0.4953 - val_acc: 0.7800\n",
      "Epoch 43/100\n",
      "100/100 [==============================] - 12s 123ms/step - loss: 0.5559 - acc: 0.6975 - val_loss: 0.4907 - val_acc: 0.7800\n",
      "Epoch 44/100\n",
      "100/100 [==============================] - 12s 122ms/step - loss: 0.5274 - acc: 0.7200 - val_loss: 0.5304 - val_acc: 0.7400\n",
      "Epoch 45/100\n",
      "100/100 [==============================] - 12s 122ms/step - loss: 0.5568 - acc: 0.7350 - val_loss: 0.5338 - val_acc: 0.7100\n",
      "Epoch 46/100\n",
      "100/100 [==============================] - 12s 120ms/step - loss: 0.5406 - acc: 0.7300 - val_loss: 0.5041 - val_acc: 0.7800\n",
      "Epoch 47/100\n",
      "100/100 [==============================] - 12s 123ms/step - loss: 0.5401 - acc: 0.7525 - val_loss: 0.5333 - val_acc: 0.7400\n",
      "Epoch 48/100\n",
      "100/100 [==============================] - 12s 123ms/step - loss: 0.5207 - acc: 0.7400 - val_loss: 0.6002 - val_acc: 0.6500\n",
      "Epoch 49/100\n",
      "100/100 [==============================] - 12s 123ms/step - loss: 0.5525 - acc: 0.7175 - val_loss: 0.5016 - val_acc: 0.7800\n",
      "Epoch 50/100\n",
      "100/100 [==============================] - 12s 123ms/step - loss: 0.5333 - acc: 0.7425 - val_loss: 0.5052 - val_acc: 0.7800\n",
      "Epoch 51/100\n",
      "100/100 [==============================] - 12s 120ms/step - loss: 0.5209 - acc: 0.7300 - val_loss: 0.5189 - val_acc: 0.7600\n",
      "Epoch 52/100\n",
      "100/100 [==============================] - 12s 122ms/step - loss: 0.5138 - acc: 0.7825 - val_loss: 0.4830 - val_acc: 0.7800\n",
      "Epoch 53/100\n",
      "100/100 [==============================] - 12s 121ms/step - loss: 0.5528 - acc: 0.7125 - val_loss: 0.5037 - val_acc: 0.7700\n",
      "Epoch 54/100\n",
      "100/100 [==============================] - 12s 122ms/step - loss: 0.5415 - acc: 0.7150 - val_loss: 0.5015 - val_acc: 0.7600\n",
      "Epoch 55/100\n",
      "100/100 [==============================] - 12s 122ms/step - loss: 0.5483 - acc: 0.7375 - val_loss: 0.5166 - val_acc: 0.7400\n",
      "Epoch 56/100\n",
      "100/100 [==============================] - 12s 121ms/step - loss: 0.5507 - acc: 0.7125 - val_loss: 0.5074 - val_acc: 0.7600\n",
      "Epoch 57/100\n",
      "100/100 [==============================] - 12s 121ms/step - loss: 0.5474 - acc: 0.7150 - val_loss: 0.4909 - val_acc: 0.8000\n",
      "Epoch 58/100\n",
      "100/100 [==============================] - 12s 120ms/step - loss: 0.5642 - acc: 0.7375 - val_loss: 0.5205 - val_acc: 0.7400\n",
      "Epoch 59/100\n",
      "100/100 [==============================] - 12s 123ms/step - loss: 0.5340 - acc: 0.7450 - val_loss: 0.5121 - val_acc: 0.7500\n",
      "Epoch 60/100\n",
      "100/100 [==============================] - 12s 122ms/step - loss: 0.5402 - acc: 0.7475 - val_loss: 0.4999 - val_acc: 0.7900\n"
     ]
    },
    {
     "name": "stdout",
     "output_type": "stream",
     "text": [
      "Epoch 61/100\n",
      "100/100 [==============================] - 12s 120ms/step - loss: 0.5019 - acc: 0.7350 - val_loss: 0.4906 - val_acc: 0.7900\n",
      "Epoch 62/100\n",
      "100/100 [==============================] - 12s 119ms/step - loss: 0.5152 - acc: 0.7375 - val_loss: 0.5094 - val_acc: 0.7700\n",
      "Epoch 63/100\n",
      "100/100 [==============================] - 12s 121ms/step - loss: 0.5532 - acc: 0.7275 - val_loss: 0.4883 - val_acc: 0.7900\n",
      "Epoch 64/100\n",
      "100/100 [==============================] - 12s 120ms/step - loss: 0.5301 - acc: 0.7350 - val_loss: 0.5168 - val_acc: 0.7500\n",
      "Epoch 65/100\n",
      "100/100 [==============================] - 12s 122ms/step - loss: 0.4943 - acc: 0.7450 - val_loss: 0.4939 - val_acc: 0.7800\n",
      "Epoch 66/100\n",
      "100/100 [==============================] - 12s 121ms/step - loss: 0.5256 - acc: 0.7500 - val_loss: 0.4971 - val_acc: 0.7800\n",
      "Epoch 67/100\n",
      "100/100 [==============================] - 12s 120ms/step - loss: 0.5188 - acc: 0.7325 - val_loss: 0.5214 - val_acc: 0.7400\n",
      "Epoch 68/100\n",
      "100/100 [==============================] - 12s 121ms/step - loss: 0.5327 - acc: 0.7400 - val_loss: 0.5580 - val_acc: 0.7100\n",
      "Epoch 69/100\n",
      "100/100 [==============================] - 12s 124ms/step - loss: 0.5285 - acc: 0.7225 - val_loss: 0.4898 - val_acc: 0.8000\n",
      "Epoch 70/100\n",
      "100/100 [==============================] - 13s 125ms/step - loss: 0.5348 - acc: 0.7325 - val_loss: 0.5069 - val_acc: 0.7600\n",
      "Epoch 71/100\n",
      "100/100 [==============================] - 13s 128ms/step - loss: 0.5742 - acc: 0.7200 - val_loss: 0.5334 - val_acc: 0.7100\n",
      "Epoch 72/100\n",
      "100/100 [==============================] - 13s 128ms/step - loss: 0.5230 - acc: 0.7325 - val_loss: 0.5196 - val_acc: 0.7400\n",
      "Epoch 73/100\n",
      "100/100 [==============================] - 13s 126ms/step - loss: 0.5116 - acc: 0.7825 - val_loss: 0.5219 - val_acc: 0.7300\n",
      "Epoch 74/100\n",
      "100/100 [==============================] - 12s 121ms/step - loss: 0.5249 - acc: 0.7450 - val_loss: 0.4921 - val_acc: 0.7900\n",
      "Epoch 75/100\n",
      "100/100 [==============================] - 12s 122ms/step - loss: 0.5233 - acc: 0.7350 - val_loss: 0.4943 - val_acc: 0.7600\n",
      "Epoch 76/100\n",
      "100/100 [==============================] - 12s 122ms/step - loss: 0.5108 - acc: 0.7450 - val_loss: 0.4830 - val_acc: 0.8100\n",
      "Epoch 77/100\n",
      "100/100 [==============================] - 12s 122ms/step - loss: 0.5368 - acc: 0.7300 - val_loss: 0.4836 - val_acc: 0.8000\n",
      "Epoch 78/100\n",
      "100/100 [==============================] - 12s 122ms/step - loss: 0.5227 - acc: 0.7300 - val_loss: 0.4905 - val_acc: 0.8000\n",
      "Epoch 79/100\n",
      "100/100 [==============================] - 12s 121ms/step - loss: 0.5278 - acc: 0.7525 - val_loss: 0.5100 - val_acc: 0.7500\n",
      "Epoch 80/100\n",
      "100/100 [==============================] - 12s 121ms/step - loss: 0.5316 - acc: 0.7450 - val_loss: 0.4921 - val_acc: 0.7500\n",
      "Epoch 81/100\n",
      "100/100 [==============================] - 12s 125ms/step - loss: 0.5123 - acc: 0.7800 - val_loss: 0.5156 - val_acc: 0.7400\n",
      "Epoch 82/100\n",
      "100/100 [==============================] - 12s 123ms/step - loss: 0.5096 - acc: 0.7475 - val_loss: 0.5089 - val_acc: 0.7500\n",
      "Epoch 83/100\n",
      "100/100 [==============================] - 12s 121ms/step - loss: 0.5216 - acc: 0.7575 - val_loss: 0.4932 - val_acc: 0.7800\n",
      "Epoch 84/100\n",
      "100/100 [==============================] - 12s 122ms/step - loss: 0.5242 - acc: 0.7475 - val_loss: 0.4748 - val_acc: 0.7900\n",
      "Epoch 85/100\n",
      "100/100 [==============================] - 12s 122ms/step - loss: 0.5250 - acc: 0.7250 - val_loss: 0.4925 - val_acc: 0.7900\n",
      "Epoch 86/100\n",
      "100/100 [==============================] - 12s 123ms/step - loss: 0.4859 - acc: 0.7775 - val_loss: 0.5017 - val_acc: 0.7700\n",
      "Epoch 87/100\n",
      "100/100 [==============================] - 12s 121ms/step - loss: 0.5372 - acc: 0.7550 - val_loss: 0.4924 - val_acc: 0.7900\n",
      "Epoch 88/100\n",
      "100/100 [==============================] - 12s 120ms/step - loss: 0.5144 - acc: 0.7550 - val_loss: 0.5042 - val_acc: 0.7800\n",
      "Epoch 89/100\n",
      "100/100 [==============================] - 12s 122ms/step - loss: 0.5019 - acc: 0.7600 - val_loss: 0.4846 - val_acc: 0.8200\n",
      "Epoch 90/100\n",
      "100/100 [==============================] - 12s 122ms/step - loss: 0.5189 - acc: 0.7375 - val_loss: 0.4891 - val_acc: 0.7900\n",
      "Epoch 91/100\n",
      "100/100 [==============================] - 12s 123ms/step - loss: 0.5417 - acc: 0.7475 - val_loss: 0.4767 - val_acc: 0.8100\n",
      "Epoch 92/100\n",
      "100/100 [==============================] - 12s 122ms/step - loss: 0.5071 - acc: 0.7475 - val_loss: 0.4836 - val_acc: 0.7700\n",
      "Epoch 93/100\n",
      "100/100 [==============================] - 12s 122ms/step - loss: 0.4947 - acc: 0.7650 - val_loss: 0.4850 - val_acc: 0.7900\n",
      "Epoch 94/100\n",
      "100/100 [==============================] - 12s 122ms/step - loss: 0.5113 - acc: 0.7675 - val_loss: 0.4998 - val_acc: 0.7800\n",
      "Epoch 95/100\n",
      "100/100 [==============================] - 12s 121ms/step - loss: 0.5100 - acc: 0.7375 - val_loss: 0.4925 - val_acc: 0.7700\n",
      "Epoch 96/100\n",
      "100/100 [==============================] - 12s 124ms/step - loss: 0.5146 - acc: 0.7875 - val_loss: 0.5342 - val_acc: 0.7300\n",
      "Epoch 97/100\n",
      "100/100 [==============================] - 15s 146ms/step - loss: 0.4930 - acc: 0.7700 - val_loss: 0.4835 - val_acc: 0.8000\n",
      "Epoch 98/100\n",
      "100/100 [==============================] - 13s 132ms/step - loss: 0.5059 - acc: 0.7600 - val_loss: 0.5349 - val_acc: 0.7200\n",
      "Epoch 99/100\n",
      "100/100 [==============================] - 13s 134ms/step - loss: 0.5150 - acc: 0.7575 - val_loss: 0.5117 - val_acc: 0.7700\n",
      "Epoch 100/100\n",
      "100/100 [==============================] - 14s 136ms/step - loss: 0.5274 - acc: 0.7525 - val_loss: 0.5227 - val_acc: 0.7600\n"
     ]
    }
   ],
   "source": [
    "history=model.fit_generator(datagen.flow(girisverisi,cikisverisi,batch_size=4),\n",
    "                    epochs=100,\n",
    "                    validation_data=(splitverisi,splitcikis),\n",
    "                    workers=4)\n",
    "                "
   ]
  },
  {
   "cell_type": "code",
   "execution_count": 48,
   "metadata": {},
   "outputs": [],
   "source": [
    "acc = history.history['acc']\n",
    "val_acc =history.history['val_acc']\n",
    "loss=history.history['loss']\n",
    "val_loss = history.history['val_loss']\n"
   ]
  },
  {
   "cell_type": "code",
   "execution_count": 49,
   "metadata": {},
   "outputs": [],
   "source": [
    "epochs=range(len(acc))"
   ]
  },
  {
   "cell_type": "code",
   "execution_count": 50,
   "metadata": {},
   "outputs": [
    {
     "data": {
      "image/png": "[encoded data removed]",
      "text/plain": [
       "<Figure size 432x288 with 1 Axes>"
      ]
     },
     "metadata": {
      "needs_background": "light"
     },
     "output_type": "display_data"
    },
    {
     "data": {
      "image/png": "[encoded data removed]",
      "text/plain": [
       "<Figure size 432x288 with 1 Axes>"
      ]
     },
     "metadata": {
      "needs_background": "light"
     },
     "output_type": "display_data"
    }
   ],
   "source": [
    "plt.plot(epochs,acc, 'bo', label= 'training acc')\n",
    "plt.plot(epochs, val_acc,'b', label= 'Validation acc')\n",
    "plt.title('Training and  validation accuracy')\n",
    "plt.legend()\n",
    "\n",
    "plt.figure()\n",
    "\n",
    "plt.plot(epochs,loss, 'bo', label= 'training loss')\n",
    "plt.plot(epochs, val_loss,'b', label= 'Validation loss')\n",
    "plt.title('Training and  validation loss')\n",
    "plt.legend()\n",
    "\n",
    "plt.show()"
   ]
  },
  {
   "cell_type": "markdown",
   "metadata": {},
   "source": [
    "# Grafik Yorumu\n",
    "Artık modelimiz data augmentation+dropout etkisiyle overfittingi azalttı ve iyi tahminler yapmaya başladı."
   ]
  },
  {
   "cell_type": "code",
   "execution_count": 51,
   "metadata": {},
   "outputs": [],
   "source": [
    "model.save(\"versiyonüc\")"
   ]
  },
  {
   "cell_type": "markdown",
   "metadata": {},
   "source": [
    "# Adım 4: Erken Kesme Etkisi"
   ]
  },
  {
   "cell_type": "code",
   "execution_count": 59,
   "metadata": {},
   "outputs": [
    {
     "name": "stdout",
     "output_type": "stream",
     "text": [
      "Epoch 1/6\n",
      "100/100 [==============================] - 12s 124ms/step - loss: 0.4937 - acc: 0.7875 - val_loss: 0.4723 - val_acc: 0.7800\n",
      "Epoch 2/6\n",
      "100/100 [==============================] - 12s 122ms/step - loss: 0.4964 - acc: 0.7750 - val_loss: 0.4896 - val_acc: 0.7800\n",
      "Epoch 3/6\n",
      "100/100 [==============================] - 12s 122ms/step - loss: 0.4852 - acc: 0.7475 - val_loss: 0.5034 - val_acc: 0.7700\n",
      "Epoch 4/6\n",
      "100/100 [==============================] - 12s 121ms/step - loss: 0.4856 - acc: 0.7700 - val_loss: 0.4960 - val_acc: 0.7700\n",
      "Epoch 5/6\n",
      "100/100 [==============================] - 12s 121ms/step - loss: 0.5088 - acc: 0.7475 - val_loss: 0.4704 - val_acc: 0.8100\n",
      "Epoch 6/6\n",
      "100/100 [==============================] - 12s 122ms/step - loss: 0.4747 - acc: 0.7775 - val_loss: 0.4662 - val_acc: 0.7900\n"
     ]
    }
   ],
   "source": [
    "history=model.fit_generator(datagen.flow(girisverisi,cikisverisi,batch_size=4),\n",
    "                    epochs=6,\n",
    "                    validation_data=(splitverisi,splitcikis),\n",
    "                    workers=4)"
   ]
  },
  {
   "cell_type": "code",
   "execution_count": 60,
   "metadata": {},
   "outputs": [],
   "source": [
    "acc = history.history['acc']\n",
    "val_acc =history.history['val_acc']\n",
    "loss=history.history['loss']\n",
    "val_loss = history.history['val_loss']\n"
   ]
  },
  {
   "cell_type": "code",
   "execution_count": 61,
   "metadata": {},
   "outputs": [],
   "source": [
    "epochs=range(len(acc))"
   ]
  },
  {
   "cell_type": "code",
   "execution_count": 62,
   "metadata": {},
   "outputs": [
    {
     "data": {
      "image/png": "[encoded data removed]",
      "text/plain": [
       "<Figure size 432x288 with 1 Axes>"
      ]
     },
     "metadata": {
      "needs_background": "light"
     },
     "output_type": "display_data"
    },
    {
     "data": {
      "image/png": "[encoded data removed]",
      "text/plain": [
       "<Figure size 432x288 with 1 Axes>"
      ]
     },
     "metadata": {
      "needs_background": "light"
     },
     "output_type": "display_data"
    }
   ],
   "source": [
    "plt.plot(epochs,acc, 'bo', label= 'training acc')\n",
    "plt.plot(epochs, val_acc,'b', label= 'Validation acc')\n",
    "plt.title('Training and  validation accuracy')\n",
    "plt.legend()\n",
    "\n",
    "plt.figure()\n",
    "\n",
    "plt.plot(epochs,loss, 'bo', label= 'training loss')\n",
    "plt.plot(epochs, val_loss,'b', label= 'Validation loss')\n",
    "plt.title('Training and  validation loss')\n",
    "plt.legend()\n",
    "\n",
    "plt.show()"
   ]
  },
  {
   "cell_type": "markdown",
   "metadata": {},
   "source": [
    "# Grafik Yorumu"
   ]
  },
  {
   "cell_type": "markdown",
   "metadata": {},
   "source": [
    "Modelimizin başarısını göz önünde bulundurarak, overfitting olayının önüne geçmek adına erken bir epoch sayısında\n",
    "modelimizin eğitimini durdurduk.Böylelikle daha başarılı bir sonuç ve grafik elde etmiş olduk."
   ]
  },
  {
   "cell_type": "code",
   "execution_count": 63,
   "metadata": {},
   "outputs": [],
   "source": [
    "model.save(\"versiyondört\")"
   ]
  },
  {
   "cell_type": "markdown",
   "metadata": {},
   "source": [
    "# Genel Yorum"
   ]
  },
  {
   "cell_type": "markdown",
   "metadata": {},
   "source": [
    "Derin öğrenme projeleri genellikle büyük verisetleri ile çalıştığı zaman daha iyi sonuçlar vermektedir.Bu sebeple ilk adımımızda(veri seti yetersizliği sebebiyle) modelimiz direkt ezberleme yöntemine başvurdu.Daha sonra data augmentation ile elimizdeki verisetini genişlettiğimiz için daha başarılı sonuçlar elde etmeye başladık ve bunun üzerine dropout etkisi de eklediğimizde modelimiz ideala biraz daha yaklaşmış oldu. Son olarak epoch sayısını overfittinge başlamadan kesmemiz model adına daha iyi sonuçlar üretti."
   ]
  }
 ],
 "metadata": {
  "kernelspec": {
   "display_name": "Python 3",
   "language": "python",
   "name": "python3"
  },
  "language_info": {
   "codemirror_mode": {
    "name": "ipython",
    "version": 3
   },
   "file_extension": ".py",
   "mimetype": "text/x-python",
   "name": "python",
   "nbconvert_exporter": "python",
   "pygments_lexer": "ipython3",
   "version": "3.7.4"
  }
 },
 "nbformat": 4,
 "nbformat_minor": 2
}
